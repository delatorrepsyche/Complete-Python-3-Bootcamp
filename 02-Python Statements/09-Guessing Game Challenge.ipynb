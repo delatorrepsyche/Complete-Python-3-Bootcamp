{
 "cells": [
  {
   "cell_type": "markdown",
   "metadata": {},
   "source": [
    "___\n",
    "\n",
    "<a href='https://www.udemy.com/user/joseportilla/'><img src='../Pierian_Data_Logo.png'/></a>\n",
    "___\n",
    "<center><em>Content Copyright by Pierian Data</em></center>"
   ]
  },
  {
   "cell_type": "markdown",
   "metadata": {},
   "source": [
    "# Guessing Game Challenge\n",
    "\n",
    "Let's use `while` loops to create a guessing game.\n",
    "\n",
    "The Challenge:\n",
    "\n",
    "Write a program that picks a random integer from 1 to 100, and has players guess the number. The rules are:\n",
    "\n",
    "1. If a player's guess is less than 1 or greater than 100, say \"OUT OF BOUNDS\"\n",
    "2. On a player's first turn, if their guess is\n",
    " * within 10 of the number, return \"WARM!\"\n",
    " * further than 10 away from the number, return \"COLD!\"\n",
    "3. On all subsequent turns, if a guess is \n",
    " * closer to the number than the previous guess return \"WARMER!\"\n",
    " * farther from the number than the previous guess, return \"COLDER!\"\n",
    "4. When the player's guess equals the number, tell them they've guessed correctly *and* how many guesses it took!\n",
    "\n",
    "You can try this from scratch, or follow the steps outlined below. A separate Solution notebook has been provided. Good luck!\n"
   ]
  },
  {
   "cell_type": "markdown",
   "metadata": {},
   "source": [
    "#### First, pick a random integer from 1 to 100 using the random module and assign it to a variable\n",
    "\n",
    "Note: `random.randint(a,b)` returns a random integer in range `[a, b]`, including both end points."
   ]
  },
  {
   "cell_type": "code",
   "execution_count": 2,
   "metadata": {
    "collapsed": true
   },
   "outputs": [
    {
     "output_type": "execute_result",
     "data": {
      "text/plain": "71"
     },
     "metadata": {},
     "execution_count": 2
    }
   ],
   "source": [
    "import random\n",
    "\n",
    "number = random.randint(1,100)\n",
    "number"
   ]
  },
  {
   "cell_type": "markdown",
   "metadata": {},
   "source": [
    "#### Next, print an introduction to the game and explain the rules"
   ]
  },
  {
   "cell_type": "code",
   "execution_count": 3,
   "metadata": {
    "collapsed": true,
    "tags": []
   },
   "outputs": [
    {
     "output_type": "stream",
     "name": "stdout",
     "text": "Welcome to the Guessing Game Challenge\nThe rules are simple. Pick a random integer ranging from 1 to 100\nIf your first guessed number is within 10 of the number then I'll tell you 'WARM!'\nElse if your first guessed number is further than 10 away of the number then I'll say 'COLD!'\nOn all subsequent turns, if a guess is closer to the number than the previous guess I'll say 'WARMER!'\nElse I'll say 'COLDER!'\n"
    }
   ],
   "source": [
    "print(\"Welcome to the Guessing Game Challenge\")\n",
    "print(\"The rules are simple. Pick a random integer ranging from 1 to 100\")\n",
    "print(\"If your first guessed number is within 10 of the number then I'll tell you 'WARM!'\")\n",
    "print(\"Else if your first guessed number is further than 10 away of the number then I'll say 'COLD!'\")\n",
    "print(\"On all subsequent turns, if a guess is closer to the number than the previous guess I'll say 'WARMER!'\")\n",
    "print(\"Else I'll say 'COLDER!'\")"
   ]
  },
  {
   "cell_type": "markdown",
   "metadata": {},
   "source": [
    "#### Create a list to store guesses\n",
    "\n",
    "Hint: zero is a good placeholder value. It's useful because it evaluates to \"False\""
   ]
  },
  {
   "cell_type": "code",
   "execution_count": 16,
   "metadata": {
    "collapsed": true
   },
   "outputs": [],
   "source": [
    "guesses = [0]"
   ]
  },
  {
   "cell_type": "markdown",
   "metadata": {},
   "source": [
    "#### Write a `while` loop that asks for a valid guess. Test it a few times to make sure it works."
   ]
  },
  {
   "cell_type": "code",
   "execution_count": 8,
   "metadata": {
    "collapsed": true,
    "tags": []
   },
   "outputs": [
    {
     "output_type": "stream",
     "name": "stdout",
     "text": "Please pick a number from 1 - 100: \nYour guess is 12\n"
    }
   ],
   "source": [
    "while True:\n",
    "    guess = int(input(print('Please pick a number from 1 - 100: ')))\n",
    "    if guess < 1 or guess > 100:\n",
    "        print(f'{guess} is OUT OF BOUNDS!')\n",
    "    else:\n",
    "        print(f'Your guess is {guess}')\n",
    "        break"
   ]
  },
  {
   "cell_type": "markdown",
   "metadata": {},
   "source": [
    "#### Write a `while` loop that compares the player's guess to our number. If the player guesses correctly, break from the loop. Otherwise, tell the player if they're warmer or colder, and continue asking for guesses.\n",
    "\n",
    "Some hints:\n",
    "* it may help to sketch out all possible combinations on paper first!\n",
    "* you can use the `abs()` function to find the positive difference between two numbers\n",
    "* if you append all new guesses to the list, then the previous guess is given as `guesses[-2]`"
   ]
  },
  {
   "cell_type": "code",
   "execution_count": 17,
   "metadata": {
    "collapsed": true,
    "tags": []
   },
   "outputs": [
    {
     "output_type": "stream",
     "name": "stdout",
     "text": "Please pick a number from 1 - 100: \nWARM!\nPlease pick a number from 1 - 100: \nCOLDER!\nPlease pick a number from 1 - 100: \nWARMER!\nPlease pick a number from 1 - 100: \nYou guessed it right in just 4 guesses!\n"
    }
   ],
   "source": [
    "while True:\n",
    "    guess = int(input(print('Please pick a number from 1 - 100: ')))\n",
    "    if guess < 1 or guess > 100:\n",
    "        print(f'{guess} is OUT OF BOUNDS!')\n",
    "        continue\n",
    "    \n",
    "    guesses.append(guess)\n",
    "    \n",
    "    if guess == number:\n",
    "        print(f\"You guessed it right in just {len(guesses)-1} guesses!\")\n",
    "        break\n",
    "    elif guesses[-2]:\n",
    "        if abs(guess - number) < abs(guess - guesses[-2]):\n",
    "            print(\"WARMER!\")\n",
    "        else:\n",
    "            print(\"COLDER!\")\n",
    "    else:\n",
    "        if abs(guess - number) <= 10:\n",
    "            print(\"WARM!\")\n",
    "        else:\n",
    "            print(\"COLD!\")"
   ]
  },
  {
   "cell_type": "markdown",
   "metadata": {},
   "source": [
    "That's it! You've just programmed your first game!\n",
    "\n",
    "In the next section we'll learn how to turn some of these repetitive actions into *functions* that can be called whenever we need them."
   ]
  },
  {
   "cell_type": "markdown",
   "metadata": {},
   "source": [
    "### Good Job!"
   ]
  }
 ],
 "metadata": {
  "kernelspec": {
   "display_name": "Python 3.7.9 64-bit",
   "language": "python",
   "name": "python_defaultSpec_1598111247223"
  },
  "language_info": {
   "codemirror_mode": {
    "name": "ipython",
    "version": 3
   },
   "file_extension": ".py",
   "mimetype": "text/x-python",
   "name": "python",
   "nbconvert_exporter": "python",
   "pygments_lexer": "ipython3",
   "version": "3.7.9-final"
  }
 },
 "nbformat": 4,
 "nbformat_minor": 2
}